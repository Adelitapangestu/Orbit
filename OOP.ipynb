{
  "nbformat": 4,
  "nbformat_minor": 0,
  "metadata": {
    "colab": {
      "name": "OOP.ipynb",
      "provenance": [],
      "collapsed_sections": [
        "Le8N3SLcbiAd",
        "3WbfqdEWbtsl"
      ],
      "include_colab_link": true
    },
    "kernelspec": {
      "name": "python3",
      "display_name": "Python 3"
    },
    "language_info": {
      "name": "python"
    }
  },
  "cells": [
    {
      "cell_type": "markdown",
      "metadata": {
        "id": "view-in-github",
        "colab_type": "text"
      },
      "source": [
        "<a href=\"https://colab.research.google.com/github/edwinbun/Orbit/blob/main/OOP.ipynb\" target=\"_parent\"><img src=\"https://colab.research.google.com/assets/colab-badge.svg\" alt=\"Open In Colab\"/></a>"
      ]
    },
    {
      "cell_type": "markdown",
      "metadata": {
        "id": "Le8N3SLcbiAd"
      },
      "source": [
        "# **Fungsi**"
      ]
    },
    {
      "cell_type": "code",
      "metadata": {
        "id": "ywDbPVukTDYd"
      },
      "source": [
        "# Deklarasi Fungsi\n",
        "def cetak(x):\n",
        "  print(x)\n",
        "\n",
        "# Memanggil Fungsi\n",
        "cetak(\"wokee\")"
      ],
      "execution_count": null,
      "outputs": []
    },
    {
      "cell_type": "markdown",
      "metadata": {
        "id": "g1vvOqhXckNJ"
      },
      "source": [
        "Latihan"
      ]
    },
    {
      "cell_type": "code",
      "metadata": {
        "colab": {
          "base_uri": "https://localhost:8080/"
        },
        "id": "tuX_0xeBbiUN",
        "outputId": "df39b86f-666d-400e-a104-28bd89181375"
      },
      "source": [
        "def tes(x):\n",
        "  print(x)\n",
        "  print('Gak', ', lu bau')\n",
        "\n",
        "tes('apa?')"
      ],
      "execution_count": null,
      "outputs": [
        {
          "output_type": "stream",
          "name": "stdout",
          "text": [
            "apa?\n",
            "Gak , lu bau\n"
          ]
        }
      ]
    },
    {
      "cell_type": "code",
      "metadata": {
        "id": "RipUgd0NTdjo"
      },
      "source": [
        "# Deklarasi Fungsi dengan pengembalian\n",
        "def tambah(a, b):\n",
        "  return a + b;\n",
        "\n",
        "# Memanggil Fungsi\n",
        "print(tambah(2, 3))"
      ],
      "execution_count": null,
      "outputs": []
    },
    {
      "cell_type": "markdown",
      "metadata": {
        "id": "qpeD-CN7cigk"
      },
      "source": [
        "Latihan"
      ]
    },
    {
      "cell_type": "code",
      "metadata": {
        "id": "9r0oXaTxVRvi",
        "colab": {
          "base_uri": "https://localhost:8080/"
        },
        "outputId": "0900cd6e-6bd1-4097-e66a-979567a57980"
      },
      "source": [
        "def kali(a,b,c,d):\n",
        "  return (a*b)+(c-d)\n",
        "\n",
        "print('Jawabannya adalah ',kali(5,2,1,6))"
      ],
      "execution_count": null,
      "outputs": [
        {
          "output_type": "stream",
          "name": "stdout",
          "text": [
            "Jawabannya adalah  5\n"
          ]
        }
      ]
    },
    {
      "cell_type": "markdown",
      "metadata": {
        "id": "SLOP8yGkbpLO"
      },
      "source": [
        "# **Method**"
      ]
    },
    {
      "cell_type": "code",
      "metadata": {
        "id": "P_Z6c_AYWi71"
      },
      "source": [
        "class NamaClass:\n",
        "  def nama_method(arg1, arg2, ...):\n",
        "    # isi method"
      ],
      "execution_count": null,
      "outputs": []
    },
    {
      "cell_type": "code",
      "metadata": {
        "colab": {
          "base_uri": "https://localhost:8080/"
        },
        "id": "uh927B9_W0N1",
        "outputId": "d01f409a-6bec-4a9a-c4fc-99db3c042834"
      },
      "source": [
        "# Deklarasi Object (Class)\n",
        "class Kucing(object):\n",
        "  def meong(self):\n",
        "    print(\"meeooong\")\n",
        "\n",
        "# Memanggil method\n",
        "cat = Kucing()\n",
        "cat.meong()"
      ],
      "execution_count": null,
      "outputs": [
        {
          "output_type": "stream",
          "name": "stdout",
          "text": [
            "meeooong\n"
          ]
        }
      ]
    },
    {
      "cell_type": "markdown",
      "metadata": {
        "id": "txzzpI9mdX3-"
      },
      "source": [
        "Latihan"
      ]
    },
    {
      "cell_type": "code",
      "metadata": {
        "colab": {
          "base_uri": "https://localhost:8080/"
        },
        "id": "A7QbDWwydYud",
        "outputId": "fff4b960-5b99-4075-e21f-98bde4bca7bb"
      },
      "source": [
        "class Manusia(object):\n",
        "  def auu(self):\n",
        "    print('AWKOWKOWOWK')\n",
        "\n",
        "human = Manusia()\n",
        "human.auu"
      ],
      "execution_count": null,
      "outputs": [
        {
          "output_type": "stream",
          "name": "stdout",
          "text": [
            "AWKOWKOWOWK\n"
          ]
        }
      ]
    },
    {
      "cell_type": "markdown",
      "metadata": {
        "id": "3WbfqdEWbtsl"
      },
      "source": [
        "# **Lambda Expression**"
      ]
    },
    {
      "cell_type": "code",
      "metadata": {
        "colab": {
          "base_uri": "https://localhost:8080/"
        },
        "id": "wmZuN2s7ZzAZ",
        "outputId": "41eafcb5-3e69-49eb-ada0-790b87fe9582"
      },
      "source": [
        "# Lambda expression\n",
        "tambah = lambda a, b: (a + b)\n",
        "print(tambah(2, 3))"
      ],
      "execution_count": null,
      "outputs": [
        {
          "output_type": "stream",
          "name": "stdout",
          "text": [
            "5\n"
          ]
        }
      ]
    },
    {
      "cell_type": "markdown",
      "metadata": {
        "id": "_R0e6jtRdrOc"
      },
      "source": [
        "Latihan"
      ]
    },
    {
      "cell_type": "code",
      "metadata": {
        "colab": {
          "base_uri": "https://localhost:8080/"
        },
        "id": "oi6BeGbudsJ7",
        "outputId": "6b15340c-d71a-4458-8c2d-862815f5a015"
      },
      "source": [
        "campuran  = lambda a,b,c,d: ((a+c)+(b*d))\n",
        "print(campuran(2,4,9,8))"
      ],
      "execution_count": null,
      "outputs": [
        {
          "output_type": "stream",
          "name": "stdout",
          "text": [
            "43\n"
          ]
        }
      ]
    },
    {
      "cell_type": "markdown",
      "metadata": {
        "id": "jxicmjLxkXCa"
      },
      "source": [
        "# **Object Oriented Programming**"
      ]
    },
    {
      "cell_type": "markdown",
      "metadata": {
        "id": "K_u-Dtb6kcBm"
      },
      "source": [
        "## **Encapsulation**"
      ]
    },
    {
      "cell_type": "code",
      "metadata": {
        "colab": {
          "base_uri": "https://localhost:8080/"
        },
        "id": "9-CEKFKYm2AA",
        "outputId": "a7c6cec8-7fb2-4ff3-b164-6b026ecaf78c"
      },
      "source": [
        "nama = \"cemong\"\n",
        "bentuk = 1\n",
        "warna = \"putih coklat muda\"\n",
        "jenis = \"anggora\"\n",
        "\n",
        "def meongg():\n",
        "  print(\"meeeoonnggg... \")\n",
        "\n",
        "def info_kucing(nama, bentuk, warna, jenis):\n",
        "  print(f\"nama: {nama}, bentuk: {bentuk}, warna: {warna}, jenis: {jenis}\")\n",
        "\n",
        "info_kucing(nama, bentuk, warna, jenis)\n",
        "\n",
        "\n",
        "class Kucing:\n",
        "  def __init__(self, nama, bentuk, warna, jenis):\n",
        "    self.nama = nama\n",
        "    self.bentuk = bentuk\n",
        "    self.warna = warna\n",
        "    self.jenis = jenis\n",
        "\n",
        "  def fungshi(self):\n",
        "    print(\"Hello my name is \" + self.nama)\n",
        "  \n",
        "  def meong(self):\n",
        "    print(\"meeeoonnggg... \")\n",
        "\n",
        "  def info(self):\n",
        "    print(f\"nama: {self.nama}, bentuk: {self.bentuk}, warna: {self.warna}, jenis: {self.jenis}\")\n",
        "\n",
        "\n",
        "kucing1 = Kucing(\"cemong\", 1, \"putih coklat muda\", \"anggora\")\n",
        "\n",
        "kucing1.info()"
      ],
      "execution_count": null,
      "outputs": [
        {
          "output_type": "stream",
          "name": "stdout",
          "text": [
            "nama: cemong, usia: 1, warna: putih coklat muda, jenis: anggora\n",
            "nama: cemong, usia: 1, warna: putih coklat muda, jenis: anggora\n"
          ]
        }
      ]
    },
    {
      "cell_type": "markdown",
      "metadata": {
        "id": "HtzsgLLKeVUe"
      },
      "source": [
        "Latihan"
      ]
    },
    {
      "cell_type": "code",
      "metadata": {
        "colab": {
          "base_uri": "https://localhost:8080/"
        },
        "id": "3bSlF4GKeWQZ",
        "outputId": "fc0e4976-2185-4fa7-85bb-b2e1e2171c6c"
      },
      "source": [
        "nama = \"Barang.\"\n",
        "bentuk = 'Headshet'\n",
        "warna = \"yang pernah ada\"\n",
        "jenis = \"dual driper\"\n",
        "\n",
        "class Barang:\n",
        "  def __init__(self, nama, bentuk, warna, jenis):\n",
        "    self.nama = nama\n",
        "    self.bentuk = bentuk\n",
        "    self.warna = warna\n",
        "    self.jenis = jenis\n",
        "\n",
        "  def fungshi(self):\n",
        "    print('Ini adalah :')\n",
        "    print(\"Namanya : \" + self.nama)\n",
        "\n",
        "  def info(self):\n",
        "    print(f\"nama: {self.nama}, Bentuk: {self.bentuk}, warna: {self.warna}, jenis: {self.jenis}\")\n",
        "\n",
        "\n",
        "barangs = Barang(\"Larry\", 'Headshet', \"yang pernah ada\", \"dual driper\")\n",
        "\n",
        "barangs.info()\n",
        "print('')\n",
        "barangs.fungshi()"
      ],
      "execution_count": null,
      "outputs": [
        {
          "output_type": "stream",
          "name": "stdout",
          "text": [
            "nama: Larry, Bentuk: Headshet, warna: yang pernah ada, jenis: dual driper\n",
            "\n",
            "Ini adalah :\n",
            "Namanya : Larry\n"
          ]
        }
      ]
    },
    {
      "cell_type": "markdown",
      "metadata": {
        "id": "Xpt9Lz6vqN-z"
      },
      "source": [
        "## **Abstraction**"
      ]
    },
    {
      "cell_type": "code",
      "metadata": {
        "colab": {
          "base_uri": "https://localhost:8080/"
        },
        "id": "fwa_TEf-v_8f",
        "outputId": "678b40ed-f492-419c-c2aa-1d6e00a6a41c"
      },
      "source": [
        "# Memanggil method dari objek tanpa harus mengetahui cara kerja method\n",
        "barangs.fungshi()"
      ],
      "execution_count": null,
      "outputs": [
        {
          "output_type": "stream",
          "name": "stdout",
          "text": [
            "Ini adalah :\n",
            "Namanya : Larry\n"
          ]
        }
      ]
    },
    {
      "cell_type": "markdown",
      "metadata": {
        "id": "wBoEkCxewdrg"
      },
      "source": [
        "## **Inheritence**"
      ]
    },
    {
      "cell_type": "code",
      "metadata": {
        "colab": {
          "base_uri": "https://localhost:8080/"
        },
        "id": "HsVgKNgowiRP",
        "outputId": "8e2c6189-1923-42f1-c9cb-2b66bfa26847"
      },
      "source": [
        "class Barang(object):\n",
        "  def __init__(self, nama, bentuk, jenis, warna):\n",
        "    self.nama = nama\n",
        "    self.bentuk = bentuk\n",
        "    self.jenis = jenis\n",
        "    self.warna = warna\n",
        "\n",
        "  def suara(self, durasi):\n",
        "    for x in range(durasi):\n",
        "      print(\"The ting go skrrah\",'skidikakak','apupupum')\n",
        "\n",
        "  def info(self):\n",
        "    print(f\"nama: {self.nama}, bentuk: {self.bentuk}, jenis: {self.jenis}, warna: {self.warna}\")\n",
        "\n",
        "\n",
        "barangs = Barang(\"Larry\", 'Headshet', \"dual driper\", 'yang pernah ada')\n",
        "\n",
        "print('Ini Barang 1')\n",
        "barangs.info()\n",
        "print('')\n",
        "print('Suaranya begini')\n",
        "barangs.suara(5)\n",
        "print('')\n",
        "\n",
        "class Gelas(Barang):\n",
        "  def __init__(self,  nama, bentuk, jenis, warna, tipe):\n",
        "    super().__init__(nama, bentuk, jenis, warna)\n",
        "    self.warna = warna\n",
        "    self.tipe = tipe\n",
        "  def suara2(self, durasi):\n",
        "    for x in range(durasi):\n",
        "      print(\"kuyang\",'hayikkk','hiyakkk')\n",
        "\n",
        "  def meong(self):\n",
        "    print(\"apa looo baca aja\")\n",
        "\n",
        "  def info_barang(self):\n",
        "    print(f\"tipe: {self.tipe}\")\n",
        "\n",
        "\n",
        "gelas = Gelas(\"Leroi\", 'Headphone', \"quad driper\",\"yang pernah ada\", \"apa aja bole\")\n",
        "\n",
        "\n",
        "print('Ini gelas lho')\n",
        "gelas.info()\n",
        "gelas.info_barang()\n",
        "print('')\n",
        "gelas.suara2(4)\n",
        "print('')\n",
        "gelas.meong()"
      ],
      "execution_count": null,
      "outputs": [
        {
          "output_type": "stream",
          "name": "stdout",
          "text": [
            "Ini Barang 1\n",
            "nama: Larry, bentuk: Headshet, jenis: dual driper, warna: yang pernah ada\n",
            "\n",
            "Suaranya begini\n",
            "The ting go skrrah skidikakak apupupum\n",
            "The ting go skrrah skidikakak apupupum\n",
            "The ting go skrrah skidikakak apupupum\n",
            "The ting go skrrah skidikakak apupupum\n",
            "The ting go skrrah skidikakak apupupum\n",
            "\n",
            "Ini gelas lho\n",
            "nama: Leroi, bentuk: Headphone, jenis: quad driper, warna: yang pernah ada\n",
            "tipe: apa aja bole\n",
            "\n",
            "kuyang hayikkk hiyakkk\n",
            "kuyang hayikkk hiyakkk\n",
            "kuyang hayikkk hiyakkk\n",
            "kuyang hayikkk hiyakkk\n",
            "\n",
            "apa looo baca aja\n"
          ]
        }
      ]
    },
    {
      "cell_type": "markdown",
      "metadata": {
        "id": "lLLHjBNp1HDe"
      },
      "source": [
        "## **Polymorphism**"
      ]
    },
    {
      "cell_type": "code",
      "metadata": {
        "colab": {
          "base_uri": "https://localhost:8080/"
        },
        "id": "BZLA6LDrxDHr",
        "outputId": "0f14fe73-5639-4ad6-8733-43ef53b2f651"
      },
      "source": [
        "class Kipas(Barang):\n",
        "  def __init__(self,nama, bentuk, jenis, warna, tipe):\n",
        "    super().__init__(nama, bentuk, jenis, warna)\n",
        "    self.tipe = tipe\n",
        "  \n",
        "  def burenang(self, durasi):\n",
        "    for x in range(durasi):\n",
        "      print('uwiiingg','swuuushh','ding ding','ba dum tssahhhhh')\n",
        "\n",
        "  def info_tipe(self):\n",
        "    print(f\"tipe: {self.tipe}\")\n",
        "\n",
        "kypas = Kipas(\"Masipon\",\"Kipash\", \"4 kipas Rotor blade\", \"yang pernah ada\", \"Cupang\")\n",
        "\n",
        "print('Ini kipas ges')\n",
        "kypas.info()\n",
        "kypas.info_tipe()\n",
        "print('')\n",
        "print('Suara Kipasnya begini ')\n",
        "kypas.burenang(10)"
      ],
      "execution_count": null,
      "outputs": [
        {
          "output_type": "stream",
          "name": "stdout",
          "text": [
            "Ini kipas ges\n",
            "nama: Masipon, bentuk: Kipash, jenis: 4 kipas Rotor blade, warna: yang pernah ada\n",
            "tipe: Cupang\n",
            "\n",
            "Suara Kipasnya begini \n",
            "uwiiingg swuuushh ding ding ba dum tssahhhhh\n",
            "uwiiingg swuuushh ding ding ba dum tssahhhhh\n",
            "uwiiingg swuuushh ding ding ba dum tssahhhhh\n",
            "uwiiingg swuuushh ding ding ba dum tssahhhhh\n",
            "uwiiingg swuuushh ding ding ba dum tssahhhhh\n",
            "uwiiingg swuuushh ding ding ba dum tssahhhhh\n",
            "uwiiingg swuuushh ding ding ba dum tssahhhhh\n",
            "uwiiingg swuuushh ding ding ba dum tssahhhhh\n",
            "uwiiingg swuuushh ding ding ba dum tssahhhhh\n",
            "uwiiingg swuuushh ding ding ba dum tssahhhhh\n"
          ]
        }
      ]
    },
    {
      "cell_type": "markdown",
      "metadata": {
        "id": "bse6mJ62GOR1"
      },
      "source": [
        "## **Activity OOP**\n",
        "\n",
        "Buatlah 3 OOP beserta turunannya dari objek sekitar, buat ulang seperti yang diatas (encapsulation, abstaction, inheritance, polymorphism)"
      ]
    },
    {
      "cell_type": "markdown",
      "metadata": {
        "id": "xf3ylfGtB8qY"
      },
      "source": [
        "# **Time Complexity**\n",
        "## Activity \n",
        "\n",
        "Hitung time complexity dengan bigO Notation pada algoritma berikut:\n",
        "\n",
        "* Tidak perlu di run"
      ]
    },
    {
      "cell_type": "code",
      "metadata": {
        "colab": {
          "base_uri": "https://localhost:8080/"
        },
        "id": "fnk4oJoJCJJG",
        "outputId": "a03d91c6-c975-45ab-8a63-788e71c5d501"
      },
      "source": [
        "# 1 O(1)\n",
        "\n",
        "arr = [1, 2, 3, 4, 5]\n",
        "\n",
        "print(arr[0])\n",
        "print(arr[1])"
      ],
      "execution_count": null,
      "outputs": [
        {
          "output_type": "stream",
          "name": "stdout",
          "text": [
            "1\n",
            "2\n"
          ]
        }
      ]
    },
    {
      "cell_type": "code",
      "metadata": {
        "colab": {
          "base_uri": "https://localhost:8080/",
          "height": 232
        },
        "id": "LCgmhC-qD0p2",
        "outputId": "54ccfb78-fc3e-4491-bc4e-483ccbcdc298"
      },
      "source": [
        "# 2 O(n)\n",
        "\n",
        "print(arr[2])\n",
        "for number in arr:\n",
        "  print(number)\n",
        "print(arr[1])\n",
        "print(arr[2])"
      ],
      "execution_count": null,
      "outputs": [
        {
          "output_type": "error",
          "ename": "NameError",
          "evalue": "ignored",
          "traceback": [
            "\u001b[0;31m---------------------------------------------------------------------------\u001b[0m",
            "\u001b[0;31mNameError\u001b[0m                                 Traceback (most recent call last)",
            "\u001b[0;32m<ipython-input-1-d25536fa4ad4>\u001b[0m in \u001b[0;36m<module>\u001b[0;34m()\u001b[0m\n\u001b[1;32m      1\u001b[0m \u001b[0;31m# 2\u001b[0m\u001b[0;34m\u001b[0m\u001b[0;34m\u001b[0m\u001b[0;34m\u001b[0m\u001b[0m\n\u001b[1;32m      2\u001b[0m \u001b[0;34m\u001b[0m\u001b[0m\n\u001b[0;32m----> 3\u001b[0;31m \u001b[0mprint\u001b[0m\u001b[0;34m(\u001b[0m\u001b[0marr\u001b[0m\u001b[0;34m[\u001b[0m\u001b[0;36m2\u001b[0m\u001b[0;34m]\u001b[0m\u001b[0;34m)\u001b[0m\u001b[0;34m\u001b[0m\u001b[0;34m\u001b[0m\u001b[0m\n\u001b[0m\u001b[1;32m      4\u001b[0m \u001b[0;32mfor\u001b[0m \u001b[0mnumber\u001b[0m \u001b[0;32min\u001b[0m \u001b[0marr\u001b[0m\u001b[0;34m:\u001b[0m\u001b[0;34m\u001b[0m\u001b[0;34m\u001b[0m\u001b[0m\n\u001b[1;32m      5\u001b[0m   \u001b[0mprint\u001b[0m\u001b[0;34m(\u001b[0m\u001b[0mnumber\u001b[0m\u001b[0;34m)\u001b[0m\u001b[0;34m\u001b[0m\u001b[0;34m\u001b[0m\u001b[0m\n",
            "\u001b[0;31mNameError\u001b[0m: name 'arr' is not defined"
          ]
        }
      ]
    },
    {
      "cell_type": "code",
      "metadata": {
        "colab": {
          "base_uri": "https://localhost:8080/"
        },
        "id": "w5Upv3LdECFO",
        "outputId": "79c31702-9742-4125-a69c-c3ff9bf28221"
      },
      "source": [
        "# 3 O(n)\n",
        "\n",
        "arr2 = [6, 7, 8, 9, 10]\n",
        "\n",
        "for number in arr:\n",
        "  print(number)\n",
        "for number in arr2:\n",
        "  print(number)\n",
        "print(arr2[4])"
      ],
      "execution_count": null,
      "outputs": [
        {
          "output_type": "stream",
          "name": "stdout",
          "text": [
            "1\n",
            "2\n",
            "3\n",
            "4\n",
            "5\n",
            "6\n",
            "7\n",
            "8\n",
            "9\n",
            "10\n",
            "10\n"
          ]
        }
      ]
    },
    {
      "cell_type": "code",
      "metadata": {
        "colab": {
          "base_uri": "https://localhost:8080/"
        },
        "id": "yXtKHziAEghO",
        "outputId": "eae70583-788f-47c3-eb02-e2c84de0e750"
      },
      "source": [
        "# 4 O(n^2)\n",
        "\n",
        "print(arr2[1])\n",
        "for number in arr:\n",
        "  print(number)\n",
        "for number in arr:\n",
        "  print(number)"
      ],
      "execution_count": null,
      "outputs": [
        {
          "output_type": "stream",
          "name": "stdout",
          "text": [
            "7\n",
            "1\n",
            "2\n",
            "3\n",
            "4\n",
            "5\n",
            "1\n",
            "2\n",
            "3\n",
            "4\n",
            "5\n"
          ]
        }
      ]
    },
    {
      "cell_type": "code",
      "metadata": {
        "colab": {
          "base_uri": "https://localhost:8080/"
        },
        "id": "9dXVL-S9EzxT",
        "outputId": "1f42f558-cc9f-4c53-854b-93b2d58fd210"
      },
      "source": [
        "# 5 O(n^2)\n",
        "\n",
        "for number in arr:\n",
        "  for number2 in arr2:\n",
        "    print(number+number2)\n",
        "print(arr[1]+arr2[1])\n",
        "print(arr2[2])"
      ],
      "execution_count": null,
      "outputs": [
        {
          "output_type": "stream",
          "name": "stdout",
          "text": [
            "7\n",
            "8\n",
            "9\n",
            "10\n",
            "11\n",
            "8\n",
            "9\n",
            "10\n",
            "11\n",
            "12\n",
            "9\n",
            "10\n",
            "11\n",
            "12\n",
            "13\n",
            "10\n",
            "11\n",
            "12\n",
            "13\n",
            "14\n",
            "11\n",
            "12\n",
            "13\n",
            "14\n",
            "15\n",
            "9\n",
            "8\n"
          ]
        }
      ]
    },
    {
      "cell_type": "code",
      "metadata": {
        "colab": {
          "base_uri": "https://localhost:8080/"
        },
        "id": "6SC68I3PFFge",
        "outputId": "d0285079-34e4-48c0-fe16-a12bafd1206c"
      },
      "source": [
        "# 6 O(n^2)\n",
        "\n",
        "for number in arr:\n",
        "  for number2 in arr:\n",
        "    print(number+number2)\n",
        "print(arr)"
      ],
      "execution_count": null,
      "outputs": [
        {
          "output_type": "stream",
          "name": "stdout",
          "text": [
            "2\n",
            "3\n",
            "4\n",
            "5\n",
            "6\n",
            "3\n",
            "4\n",
            "5\n",
            "6\n",
            "7\n",
            "4\n",
            "5\n",
            "6\n",
            "7\n",
            "8\n",
            "5\n",
            "6\n",
            "7\n",
            "8\n",
            "9\n",
            "6\n",
            "7\n",
            "8\n",
            "9\n",
            "10\n",
            "[1, 2, 3, 4, 5]\n"
          ]
        }
      ]
    },
    {
      "cell_type": "code",
      "metadata": {
        "colab": {
          "base_uri": "https://localhost:8080/"
        },
        "id": "b7w1_oXnGXfs",
        "outputId": "b800ae4a-6b5a-4490-f927-397eaf3e8624"
      },
      "source": [
        "# 7 O(n^3)\n",
        "\n",
        "for number in arr:\n",
        "  for number2 in arr2:\n",
        "    for number3 in arr:\n",
        "      print(number+number2+number3)\n",
        "print(arr[1])\n",
        "print(arr2[2])\n",
        "print(arr2[3])\n"
      ],
      "execution_count": null,
      "outputs": [
        {
          "output_type": "stream",
          "name": "stdout",
          "text": [
            "8\n",
            "9\n",
            "10\n",
            "11\n",
            "12\n",
            "9\n",
            "10\n",
            "11\n",
            "12\n",
            "13\n",
            "10\n",
            "11\n",
            "12\n",
            "13\n",
            "14\n",
            "11\n",
            "12\n",
            "13\n",
            "14\n",
            "15\n",
            "12\n",
            "13\n",
            "14\n",
            "15\n",
            "16\n",
            "9\n",
            "10\n",
            "11\n",
            "12\n",
            "13\n",
            "10\n",
            "11\n",
            "12\n",
            "13\n",
            "14\n",
            "11\n",
            "12\n",
            "13\n",
            "14\n",
            "15\n",
            "12\n",
            "13\n",
            "14\n",
            "15\n",
            "16\n",
            "13\n",
            "14\n",
            "15\n",
            "16\n",
            "17\n",
            "10\n",
            "11\n",
            "12\n",
            "13\n",
            "14\n",
            "11\n",
            "12\n",
            "13\n",
            "14\n",
            "15\n",
            "12\n",
            "13\n",
            "14\n",
            "15\n",
            "16\n",
            "13\n",
            "14\n",
            "15\n",
            "16\n",
            "17\n",
            "14\n",
            "15\n",
            "16\n",
            "17\n",
            "18\n",
            "11\n",
            "12\n",
            "13\n",
            "14\n",
            "15\n",
            "12\n",
            "13\n",
            "14\n",
            "15\n",
            "16\n",
            "13\n",
            "14\n",
            "15\n",
            "16\n",
            "17\n",
            "14\n",
            "15\n",
            "16\n",
            "17\n",
            "18\n",
            "15\n",
            "16\n",
            "17\n",
            "18\n",
            "19\n",
            "12\n",
            "13\n",
            "14\n",
            "15\n",
            "16\n",
            "13\n",
            "14\n",
            "15\n",
            "16\n",
            "17\n",
            "14\n",
            "15\n",
            "16\n",
            "17\n",
            "18\n",
            "15\n",
            "16\n",
            "17\n",
            "18\n",
            "19\n",
            "16\n",
            "17\n",
            "18\n",
            "19\n",
            "20\n",
            "2\n",
            "8\n",
            "9\n"
          ]
        }
      ]
    },
    {
      "cell_type": "code",
      "metadata": {
        "colab": {
          "base_uri": "https://localhost:8080/"
        },
        "id": "Cm1Hcy3JG6sh",
        "outputId": "42cedfc8-f51f-4783-fd10-4a45d6aab0af"
      },
      "source": [
        "# 8 O(log n)\n",
        "\n",
        "for number in arr:\n",
        "  print(number)\n",
        "print(arr2)\n",
        "for number in arr:\n",
        "  for number2 in arr2:\n",
        "    print(number+number2)\n",
        "print(arr)"
      ],
      "execution_count": null,
      "outputs": [
        {
          "output_type": "stream",
          "name": "stdout",
          "text": [
            "1\n",
            "2\n",
            "3\n",
            "4\n",
            "5\n",
            "[6, 7, 8, 9, 10]\n",
            "7\n",
            "8\n",
            "9\n",
            "10\n",
            "11\n",
            "8\n",
            "9\n",
            "10\n",
            "11\n",
            "12\n",
            "9\n",
            "10\n",
            "11\n",
            "12\n",
            "13\n",
            "10\n",
            "11\n",
            "12\n",
            "13\n",
            "14\n",
            "11\n",
            "12\n",
            "13\n",
            "14\n",
            "15\n",
            "[1, 2, 3, 4, 5]\n"
          ]
        }
      ]
    },
    {
      "cell_type": "code",
      "metadata": {
        "id": "EgpO69yqHJ3K",
        "colab": {
          "base_uri": "https://localhost:8080/"
        },
        "outputId": "26f4bf8d-3f80-447a-baa6-ae1817ce1567"
      },
      "source": [
        "# 9 \n",
        "def a(x):\n",
        "  for i in range(len(x)-1,0,-1):\n",
        "    for j in range(i):\n",
        "      if x[j]>x[j+1]:\n",
        "        temp = x[j]\n",
        "        x[j]=x[j+1]\n",
        "        x[j+1]=temp\n",
        "    \n",
        "angka = [47,10,98,1001,8,79,100,55,78,18]\n",
        "a(angka)\n",
        "print(angka)\n",
        "# algoritma bubble sort"
      ],
      "execution_count": null,
      "outputs": [
        {
          "output_type": "stream",
          "name": "stdout",
          "text": [
            "[8, 10, 18, 47, 55, 78, 79, 98, 100, 1001]\n"
          ]
        }
      ]
    },
    {
      "cell_type": "code",
      "metadata": {
        "id": "qD9VauTyG_RJ",
        "colab": {
          "base_uri": "https://localhost:8080/"
        },
        "outputId": "268abab2-4494-4ddb-a7f2-ae7af49c3318"
      },
      "source": [
        "# 10\n",
        "l = [114, 110, 77, 112, 65, 80, 80, 90, 113, 109, 110, 86, 108, 85, 87, 65,90, 95, 109]\n",
        "x = 114 # elemen yang ingin dicari\n",
        "jum_el = len(l)\n",
        "l.append(x) # tambahkan elemen x pada akhir list sebagai sentinel\n",
        "idx = 0\n",
        "\n",
        "while l[idx] != x:\n",
        "   idx+=1\n",
        "\n",
        "if idx < jum_el:\n",
        "  print('Nilai',x,'ditemukan pada indeks',idx)   \n",
        "else:\n",
        "  print('Nilai ',x,'tidak ditemukan')\n",
        "\n",
        "# algoritma linear search"
      ],
      "execution_count": null,
      "outputs": [
        {
          "output_type": "stream",
          "name": "stdout",
          "text": [
            "Nilai 114 ditemukan pada indeks 0\n"
          ]
        }
      ]
    },
    {
      "cell_type": "code",
      "metadata": {
        "id": "OaKrQWZJH28k",
        "colab": {
          "base_uri": "https://localhost:8080/"
        },
        "outputId": "ada84663-62ac-41b6-cfa3-49802ad77401"
      },
      "source": [
        "# 11\n",
        "l = [1,3,4,6,7,8,10,13,14,18,19,21,24,3,7,40,45,71]\n",
        "dicari = 10\n",
        "print('Mencari nilai',dicari,'dengan binary search','pada list',l)\n",
        "ditemukan = False\n",
        "batas_awal = 0\n",
        "batas_akhir = len(l) - 1\n",
        "while not ditemukan and batas_awal <= batas_akhir:\n",
        "  pos_cari = batas_awal + (batas_akhir-batas_awal)//2 # ambil posisi tengah\n",
        "  print('posisi pencarian: index',pos_cari,'dengan nilai',l[pos_cari])  \n",
        "  if l[pos_cari] == dicari:\n",
        "    ditemukan = True \n",
        "  elif l[pos_cari] > dicari:\n",
        "    batas_akhir = pos_cari-1 # geser 1 titik lebih kecil dari posisi sekarang\n",
        "  else:\n",
        "    batas_awal = pos_cari+1 # geser 1 titik lebih besar dari posisi sekarang\n",
        "\n",
        "if ditemukan:\n",
        "  print('Nilai',dicari,'ditemukan pada indeks',pos_cari)\n",
        "else:\n",
        "  print('Nilai',dicari,'tidak ditemukan')\n",
        "# algoritma binary search"
      ],
      "execution_count": null,
      "outputs": [
        {
          "output_type": "stream",
          "name": "stdout",
          "text": [
            "Mencari nilai 10 dengan binary search pada list [1, 3, 4, 6, 7, 8, 10, 13, 14, 18, 19, 21, 24, 3, 7, 40, 45, 71]\n",
            "posisi pencarian: index 8 dengan nilai 14\n",
            "posisi pencarian: index 3 dengan nilai 6\n",
            "posisi pencarian: index 5 dengan nilai 8\n",
            "posisi pencarian: index 6 dengan nilai 10\n",
            "Nilai 10 ditemukan pada indeks 6\n"
          ]
        }
      ]
    }
  ]
}